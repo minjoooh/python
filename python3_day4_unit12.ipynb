{
 "cells": [
  {
   "cell_type": "markdown",
   "metadata": {},
   "source": [
    "# unit12 지하철 시간대별 데이터"
   ]
  },
  {
   "cell_type": "code",
   "execution_count": 2,
   "metadata": {},
   "outputs": [],
   "source": [
    "import matplotlib.pyplot as plt\n",
    "import pandas as pd\n",
    "import numpy as np"
   ]
  },
  {
   "cell_type": "code",
   "execution_count": 16,
   "metadata": {},
   "outputs": [
    {
     "data": {
      "text/plain": [
       "(598, 53)"
      ]
     },
     "execution_count": 16,
     "metadata": {},
     "output_type": "execute_result"
    }
   ],
   "source": [
    "df = pd.read_excel('2019년 05월  교통카드 통계자료.xls', sheet_name=3, encoding='cp949')\n",
    "df.shape"
   ]
  },
  {
   "cell_type": "code",
   "execution_count": 17,
   "metadata": {
    "scrolled": true
   },
   "outputs": [
    {
     "data": {
      "text/html": [
       "<div>\n",
       "<style scoped>\n",
       "    .dataframe tbody tr th:only-of-type {\n",
       "        vertical-align: middle;\n",
       "    }\n",
       "\n",
       "    .dataframe tbody tr th {\n",
       "        vertical-align: top;\n",
       "    }\n",
       "\n",
       "    .dataframe thead th {\n",
       "        text-align: right;\n",
       "    }\n",
       "</style>\n",
       "<table border=\"1\" class=\"dataframe\">\n",
       "  <thead>\n",
       "    <tr style=\"text-align: right;\">\n",
       "      <th></th>\n",
       "      <th>사용월</th>\n",
       "      <th>호선명</th>\n",
       "      <th>역ID</th>\n",
       "      <th>지하철역</th>\n",
       "      <th>04:00:00~04:59:59</th>\n",
       "      <th>Unnamed: 5</th>\n",
       "      <th>05:00:00~05:59:59</th>\n",
       "      <th>Unnamed: 7</th>\n",
       "      <th>06:00:00~06:59:59</th>\n",
       "      <th>Unnamed: 9</th>\n",
       "      <th>...</th>\n",
       "      <th>Unnamed: 43</th>\n",
       "      <th>00:00:00~00:59:59</th>\n",
       "      <th>Unnamed: 45</th>\n",
       "      <th>01:00:00~01:59:59</th>\n",
       "      <th>Unnamed: 47</th>\n",
       "      <th>02:00:00~02:59:59</th>\n",
       "      <th>Unnamed: 49</th>\n",
       "      <th>03:00:00~03:59:59</th>\n",
       "      <th>Unnamed: 51</th>\n",
       "      <th>작업일시</th>\n",
       "    </tr>\n",
       "  </thead>\n",
       "  <tbody>\n",
       "    <tr>\n",
       "      <th>0</th>\n",
       "      <td>NaN</td>\n",
       "      <td>NaN</td>\n",
       "      <td>NaN</td>\n",
       "      <td>NaN</td>\n",
       "      <td>승차</td>\n",
       "      <td>하차</td>\n",
       "      <td>승차</td>\n",
       "      <td>하차</td>\n",
       "      <td>승차</td>\n",
       "      <td>하차</td>\n",
       "      <td>...</td>\n",
       "      <td>하차</td>\n",
       "      <td>승차</td>\n",
       "      <td>하차</td>\n",
       "      <td>승차</td>\n",
       "      <td>하차</td>\n",
       "      <td>승차</td>\n",
       "      <td>하차</td>\n",
       "      <td>승차</td>\n",
       "      <td>하차</td>\n",
       "      <td>NaN</td>\n",
       "    </tr>\n",
       "    <tr>\n",
       "      <th>1</th>\n",
       "      <td>2019-05</td>\n",
       "      <td>1호선</td>\n",
       "      <td>150.0</td>\n",
       "      <td>서울역</td>\n",
       "      <td>1,148</td>\n",
       "      <td>21</td>\n",
       "      <td>11,958</td>\n",
       "      <td>10,579</td>\n",
       "      <td>15,684</td>\n",
       "      <td>61,286</td>\n",
       "      <td>...</td>\n",
       "      <td>22,083</td>\n",
       "      <td>4,127</td>\n",
       "      <td>7,762</td>\n",
       "      <td>3</td>\n",
       "      <td>548</td>\n",
       "      <td>0</td>\n",
       "      <td>0</td>\n",
       "      <td>0</td>\n",
       "      <td>0</td>\n",
       "      <td>2019-06-03 10:56:25</td>\n",
       "    </tr>\n",
       "    <tr>\n",
       "      <th>2</th>\n",
       "      <td>2019-05</td>\n",
       "      <td>1호선</td>\n",
       "      <td>151.0</td>\n",
       "      <td>시청</td>\n",
       "      <td>89</td>\n",
       "      <td>5</td>\n",
       "      <td>2,843</td>\n",
       "      <td>4,674</td>\n",
       "      <td>4,169</td>\n",
       "      <td>24,963</td>\n",
       "      <td>...</td>\n",
       "      <td>4,767</td>\n",
       "      <td>931</td>\n",
       "      <td>1,426</td>\n",
       "      <td>1</td>\n",
       "      <td>25</td>\n",
       "      <td>0</td>\n",
       "      <td>0</td>\n",
       "      <td>0</td>\n",
       "      <td>0</td>\n",
       "      <td>2019-06-03 10:56:25</td>\n",
       "    </tr>\n",
       "    <tr>\n",
       "      <th>3</th>\n",
       "      <td>2019-05</td>\n",
       "      <td>1호선</td>\n",
       "      <td>152.0</td>\n",
       "      <td>종각</td>\n",
       "      <td>116</td>\n",
       "      <td>3</td>\n",
       "      <td>4,576</td>\n",
       "      <td>5,233</td>\n",
       "      <td>4,780</td>\n",
       "      <td>33,366</td>\n",
       "      <td>...</td>\n",
       "      <td>5,882</td>\n",
       "      <td>3,973</td>\n",
       "      <td>1,565</td>\n",
       "      <td>1</td>\n",
       "      <td>1</td>\n",
       "      <td>0</td>\n",
       "      <td>0</td>\n",
       "      <td>0</td>\n",
       "      <td>0</td>\n",
       "      <td>2019-06-03 10:56:25</td>\n",
       "    </tr>\n",
       "    <tr>\n",
       "      <th>4</th>\n",
       "      <td>2019-05</td>\n",
       "      <td>1호선</td>\n",
       "      <td>153.0</td>\n",
       "      <td>종로3가</td>\n",
       "      <td>216</td>\n",
       "      <td>16</td>\n",
       "      <td>5,505</td>\n",
       "      <td>3,036</td>\n",
       "      <td>4,790</td>\n",
       "      <td>16,235</td>\n",
       "      <td>...</td>\n",
       "      <td>6,715</td>\n",
       "      <td>3,375</td>\n",
       "      <td>2,753</td>\n",
       "      <td>1</td>\n",
       "      <td>37</td>\n",
       "      <td>0</td>\n",
       "      <td>1</td>\n",
       "      <td>0</td>\n",
       "      <td>0</td>\n",
       "      <td>2019-06-03 10:56:25</td>\n",
       "    </tr>\n",
       "  </tbody>\n",
       "</table>\n",
       "<p>5 rows × 53 columns</p>\n",
       "</div>"
      ],
      "text/plain": [
       "       사용월  호선명    역ID  지하철역 04:00:00~04:59:59 Unnamed: 5 05:00:00~05:59:59  \\\n",
       "0      NaN  NaN    NaN   NaN                승차         하차                승차   \n",
       "1  2019-05  1호선  150.0   서울역             1,148         21            11,958   \n",
       "2  2019-05  1호선  151.0    시청                89          5             2,843   \n",
       "3  2019-05  1호선  152.0    종각               116          3             4,576   \n",
       "4  2019-05  1호선  153.0  종로3가               216         16             5,505   \n",
       "\n",
       "  Unnamed: 7 06:00:00~06:59:59 Unnamed: 9  ... Unnamed: 43 00:00:00~00:59:59  \\\n",
       "0         하차                승차         하차  ...          하차                승차   \n",
       "1     10,579            15,684     61,286  ...      22,083             4,127   \n",
       "2      4,674             4,169     24,963  ...       4,767               931   \n",
       "3      5,233             4,780     33,366  ...       5,882             3,973   \n",
       "4      3,036             4,790     16,235  ...       6,715             3,375   \n",
       "\n",
       "  Unnamed: 45 01:00:00~01:59:59 Unnamed: 47 02:00:00~02:59:59 Unnamed: 49  \\\n",
       "0          하차                승차          하차                승차          하차   \n",
       "1       7,762                 3         548                 0           0   \n",
       "2       1,426                 1          25                 0           0   \n",
       "3       1,565                 1           1                 0           0   \n",
       "4       2,753                 1          37                 0           1   \n",
       "\n",
       "  03:00:00~03:59:59 Unnamed: 51                 작업일시  \n",
       "0                승차          하차                  NaN  \n",
       "1                 0           0  2019-06-03 10:56:25  \n",
       "2                 0           0  2019-06-03 10:56:25  \n",
       "3                 0           0  2019-06-03 10:56:25  \n",
       "4                 0           0  2019-06-03 10:56:25  \n",
       "\n",
       "[5 rows x 53 columns]"
      ]
     },
     "execution_count": 17,
     "metadata": {},
     "output_type": "execute_result"
    }
   ],
   "source": [
    "df.head()"
   ]
  },
  {
   "cell_type": "code",
   "execution_count": 18,
   "metadata": {},
   "outputs": [
    {
     "data": {
      "text/html": [
       "<div>\n",
       "<style scoped>\n",
       "    .dataframe tbody tr th:only-of-type {\n",
       "        vertical-align: middle;\n",
       "    }\n",
       "\n",
       "    .dataframe tbody tr th {\n",
       "        vertical-align: top;\n",
       "    }\n",
       "\n",
       "    .dataframe thead th {\n",
       "        text-align: right;\n",
       "    }\n",
       "</style>\n",
       "<table border=\"1\" class=\"dataframe\">\n",
       "  <thead>\n",
       "    <tr style=\"text-align: right;\">\n",
       "      <th></th>\n",
       "      <th>사용월</th>\n",
       "      <th>호선명</th>\n",
       "      <th>역ID</th>\n",
       "      <th>지하철역</th>\n",
       "      <th>04:00:00~04:59:59</th>\n",
       "      <th>Unnamed: 5</th>\n",
       "      <th>05:00:00~05:59:59</th>\n",
       "      <th>Unnamed: 7</th>\n",
       "      <th>06:00:00~06:59:59</th>\n",
       "      <th>Unnamed: 9</th>\n",
       "      <th>...</th>\n",
       "      <th>Unnamed: 43</th>\n",
       "      <th>00:00:00~00:59:59</th>\n",
       "      <th>Unnamed: 45</th>\n",
       "      <th>01:00:00~01:59:59</th>\n",
       "      <th>Unnamed: 47</th>\n",
       "      <th>02:00:00~02:59:59</th>\n",
       "      <th>Unnamed: 49</th>\n",
       "      <th>03:00:00~03:59:59</th>\n",
       "      <th>Unnamed: 51</th>\n",
       "      <th>작업일시</th>\n",
       "    </tr>\n",
       "  </thead>\n",
       "  <tbody>\n",
       "    <tr>\n",
       "      <th>1</th>\n",
       "      <td>2019-05</td>\n",
       "      <td>1호선</td>\n",
       "      <td>150.0</td>\n",
       "      <td>서울역</td>\n",
       "      <td>1,148</td>\n",
       "      <td>21</td>\n",
       "      <td>11,958</td>\n",
       "      <td>10,579</td>\n",
       "      <td>15,684</td>\n",
       "      <td>61,286</td>\n",
       "      <td>...</td>\n",
       "      <td>22,083</td>\n",
       "      <td>4,127</td>\n",
       "      <td>7,762</td>\n",
       "      <td>3</td>\n",
       "      <td>548</td>\n",
       "      <td>0</td>\n",
       "      <td>0</td>\n",
       "      <td>0</td>\n",
       "      <td>0</td>\n",
       "      <td>2019-06-03 10:56:25</td>\n",
       "    </tr>\n",
       "    <tr>\n",
       "      <th>2</th>\n",
       "      <td>2019-05</td>\n",
       "      <td>1호선</td>\n",
       "      <td>151.0</td>\n",
       "      <td>시청</td>\n",
       "      <td>89</td>\n",
       "      <td>5</td>\n",
       "      <td>2,843</td>\n",
       "      <td>4,674</td>\n",
       "      <td>4,169</td>\n",
       "      <td>24,963</td>\n",
       "      <td>...</td>\n",
       "      <td>4,767</td>\n",
       "      <td>931</td>\n",
       "      <td>1,426</td>\n",
       "      <td>1</td>\n",
       "      <td>25</td>\n",
       "      <td>0</td>\n",
       "      <td>0</td>\n",
       "      <td>0</td>\n",
       "      <td>0</td>\n",
       "      <td>2019-06-03 10:56:25</td>\n",
       "    </tr>\n",
       "  </tbody>\n",
       "</table>\n",
       "<p>2 rows × 53 columns</p>\n",
       "</div>"
      ],
      "text/plain": [
       "       사용월  호선명    역ID 지하철역 04:00:00~04:59:59 Unnamed: 5 05:00:00~05:59:59  \\\n",
       "1  2019-05  1호선  150.0  서울역             1,148         21            11,958   \n",
       "2  2019-05  1호선  151.0   시청                89          5             2,843   \n",
       "\n",
       "  Unnamed: 7 06:00:00~06:59:59 Unnamed: 9  ... Unnamed: 43 00:00:00~00:59:59  \\\n",
       "1     10,579            15,684     61,286  ...      22,083             4,127   \n",
       "2      4,674             4,169     24,963  ...       4,767               931   \n",
       "\n",
       "  Unnamed: 45 01:00:00~01:59:59 Unnamed: 47 02:00:00~02:59:59 Unnamed: 49  \\\n",
       "1       7,762                 3         548                 0           0   \n",
       "2       1,426                 1          25                 0           0   \n",
       "\n",
       "  03:00:00~03:59:59 Unnamed: 51                 작업일시  \n",
       "1                 0           0  2019-06-03 10:56:25  \n",
       "2                 0           0  2019-06-03 10:56:25  \n",
       "\n",
       "[2 rows x 53 columns]"
      ]
     },
     "execution_count": 18,
     "metadata": {},
     "output_type": "execute_result"
    }
   ],
   "source": [
    "df0 = df.drop(0) #좌측에 0이고 써진 행을 버리기\n",
    "df0.head(2)"
   ]
  },
  {
   "cell_type": "markdown",
   "metadata": {},
   "source": [
    "문제1. 출근시간대에 사람들이 가장 많이 타고 내리는 역\n",
    "- 출근시간대 지정 : 새벽 ~ 오전 9시\n",
    "- 타는 역과 내리는 역 따로 지정\n",
    "- 상위 10개씩"
   ]
  },
  {
   "cell_type": "code",
   "execution_count": 48,
   "metadata": {},
   "outputs": [
    {
     "data": {
      "text/plain": [
       "(162732, 425823)"
      ]
     },
     "execution_count": 48,
     "metadata": {},
     "output_type": "execute_result"
    }
   ],
   "source": [
    "출근시간시작위치 =  4\n",
    "출근시간끝위치 = 13\n",
    "df0 = df0.replace(',', '', regex=True)\n",
    "arr = np.array(df0)\n",
    "arr.shape\n",
    "역이름 = arr[:, 3]\n",
    "역별승차인원 = arr[:, 출근시간시작위치:출근시간끝위치:2].astype(np.int)\n",
    "역별하차인원 = arr[:, 출근시간시작위치+1:출근시간끝위치+1:2].astype(np.int)\n",
    "역별승차인원합 = np.sum(역별승차인원, axis=1)\n",
    "역별하차인원합 = np.sum(역별하차인원, axis=1)\n",
    "역별승차인원합[0], 역별하차인원합[0]"
   ]
  },
  {
   "cell_type": "code",
   "execution_count": 49,
   "metadata": {},
   "outputs": [
    {
     "data": {
      "text/plain": [
       "382801"
      ]
     },
     "execution_count": 49,
     "metadata": {},
     "output_type": "execute_result"
    }
   ],
   "source": [
    "k=10\n",
    "threshold = np.sort(역별승차인원합)[-k]\n",
    "threshold"
   ]
  },
  {
   "cell_type": "code",
   "execution_count": 51,
   "metadata": {},
   "outputs": [
    {
     "data": {
      "text/plain": [
       "(array([412219, 454340, 759642, 490300, 444523, 454963, 412919, 382801,\n",
       "        389612, 413462]),\n",
       " array(['잠실(송파구청)', '서울대입구(관악구청)', '신림', '구로디지털단지', '신도림', '연신내', '쌍문',\n",
       "        '수유(강북구청)', '화곡', '까치산'], dtype=object))"
      ]
     },
     "execution_count": 51,
     "metadata": {},
     "output_type": "execute_result"
    }
   ],
   "source": [
    "mask = 역별승차인원합 >= threshold\n",
    "역별승차인원합[mask], 역이름[mask]"
   ]
  },
  {
   "cell_type": "code",
   "execution_count": 57,
   "metadata": {},
   "outputs": [
    {
     "data": {
      "text/plain": [
       "Text(0.5, 1.0, '승차인원')"
      ]
     },
     "execution_count": 57,
     "metadata": {},
     "output_type": "execute_result"
    },
    {
     "data": {
      "image/png": "[encoded data removed]",
      "text/plain": [
       "<Figure size 432x288 with 1 Axes>"
      ]
     },
     "metadata": {
      "needs_background": "light"
     },
     "output_type": "display_data"
    }
   ],
   "source": [
    "plt.rc('font', family='Malgun Gothic') #한글\n",
    "plt.barh(역이름[mask], 역별승차인원합[mask])\n",
    "plt.title('승차인원')"
   ]
  },
  {
   "cell_type": "markdown",
   "metadata": {},
   "source": [
    "문제2. 밤 11시에 사람들이 가장 많이 타는 역 -11"
   ]
  },
  {
   "cell_type": "code",
   "execution_count": 62,
   "metadata": {},
   "outputs": [
    {
     "ename": "AttributeError",
     "evalue": "'numpy.ndarray' object has no attribute 'head'",
     "output_type": "error",
     "traceback": [
      "\u001b[1;31m---------------------------------------------------------------------------\u001b[0m",
      "\u001b[1;31mAttributeError\u001b[0m                            Traceback (most recent call last)",
      "\u001b[1;32m<ipython-input-62-b5cd12aa3c00>\u001b[0m in \u001b[0;36m<module>\u001b[1;34m\u001b[0m\n\u001b[0;32m      1\u001b[0m \u001b[0m승차인원_11시\u001b[0m \u001b[1;33m=\u001b[0m \u001b[0marr\u001b[0m\u001b[1;33m[\u001b[0m\u001b[1;33m:\u001b[0m\u001b[1;33m,\u001b[0m \u001b[1;33m-\u001b[0m\u001b[1;36m11\u001b[0m\u001b[1;33m]\u001b[0m\u001b[1;33m.\u001b[0m\u001b[0mastype\u001b[0m\u001b[1;33m(\u001b[0m\u001b[0mnp\u001b[0m\u001b[1;33m.\u001b[0m\u001b[0mint\u001b[0m\u001b[1;33m)\u001b[0m\u001b[1;33m\u001b[0m\u001b[1;33m\u001b[0m\u001b[0m\n\u001b[1;32m----> 2\u001b[1;33m \u001b[0m승차인원_11시\u001b[0m\u001b[1;33m.\u001b[0m\u001b[0mhead\u001b[0m\u001b[1;33m(\u001b[0m\u001b[1;33m)\u001b[0m\u001b[1;33m\u001b[0m\u001b[1;33m\u001b[0m\u001b[0m\n\u001b[0m",
      "\u001b[1;31mAttributeError\u001b[0m: 'numpy.ndarray' object has no attribute 'head'"
     ]
    }
   ],
   "source": [
    "승차인원_11시 = arr[:, -11].astype(np.int)\n",
    "승차인원_11시"
   ]
  },
  {
   "cell_type": "code",
   "execution_count": 69,
   "metadata": {},
   "outputs": [
    {
     "data": {
      "text/plain": [
       "42696"
      ]
     },
     "execution_count": 69,
     "metadata": {},
     "output_type": "execute_result"
    }
   ],
   "source": [
    "k=10\n",
    "threshold = np.sort(승차인원_11시)[-k]\n",
    "threshold"
   ]
  },
  {
   "cell_type": "code",
   "execution_count": 70,
   "metadata": {},
   "outputs": [
    {
     "data": {
      "text/plain": [
       "(array([ 48067,  78429,  48786, 128937,  50264,  42696, 151504,  74678,\n",
       "         55240,  43998]),\n",
       " array(['종각', '건대입구', '잠실(송파구청)', '강남', '사당', '합정', '홍대입구', '신촌', '혜화',\n",
       "        '명동'], dtype=object))"
      ]
     },
     "execution_count": 70,
     "metadata": {},
     "output_type": "execute_result"
    }
   ],
   "source": [
    "mask = 승차인원_11시 >= threshold\n",
    "승차인원_11시[mask], 역이름[mask]"
   ]
  },
  {
   "cell_type": "code",
   "execution_count": 71,
   "metadata": {},
   "outputs": [
    {
     "data": {
      "text/plain": [
       "Text(0.5, 1.0, '승차인원_11시')"
      ]
     },
     "execution_count": 71,
     "metadata": {},
     "output_type": "execute_result"
    },
    {
     "data": {
      "image/png": "[encoded data removed]",
      "text/plain": [
       "<Figure size 432x288 with 1 Axes>"
      ]
     },
     "metadata": {
      "needs_background": "light"
     },
     "output_type": "display_data"
    }
   ],
   "source": [
    "plt.rc('font', family='Malgun Gothic') #한글\n",
    "plt.barh(역이름[mask], 승차인원_11시[mask])\n",
    "plt.title('승차인원_11시')"
   ]
  },
  {
   "cell_type": "code",
   "execution_count": null,
   "metadata": {},
   "outputs": [],
   "source": []
  }
 ],
 "metadata": {
  "kernelspec": {
   "display_name": "Python 3",
   "language": "python",
   "name": "python3"
  },
  "language_info": {
   "codemirror_mode": {
    "name": "ipython",
    "version": 3
   },
   "file_extension": ".py",
   "mimetype": "text/x-python",
   "name": "python",
   "nbconvert_exporter": "python",
   "pygments_lexer": "ipython3",
   "version": "3.7.3"
  }
 },
 "nbformat": 4,
 "nbformat_minor": 2
}
