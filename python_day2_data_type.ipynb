{
 "cells": [
  {
   "cell_type": "code",
   "execution_count": 1,
   "metadata": {},
   "outputs": [
    {
     "data": {
      "text/plain": [
       "(1, 2, 3, 'a', 'b')"
      ]
     },
     "execution_count": 1,
     "metadata": {},
     "output_type": "execute_result"
    }
   ],
   "source": [
    "# 튜플은 수정이 불가능하고, 함수의 리턴이 복수개일때 튜플로 반환됨\n",
    "t = (1, 2, 3, 'a', 'b')\n",
    "t"
   ]
  },
  {
   "cell_type": "code",
   "execution_count": 3,
   "metadata": {},
   "outputs": [
    {
     "data": {
      "text/plain": [
       "1"
      ]
     },
     "execution_count": 3,
     "metadata": {},
     "output_type": "execute_result"
    }
   ],
   "source": [
    "t.count('a')"
   ]
  },
  {
   "cell_type": "code",
   "execution_count": 4,
   "metadata": {},
   "outputs": [],
   "source": [
    "s = set(t)"
   ]
  },
  {
   "cell_type": "code",
   "execution_count": 5,
   "metadata": {},
   "outputs": [
    {
     "data": {
      "text/plain": [
       "{1, 2, 3, 'a', 'b'}"
      ]
     },
     "execution_count": 5,
     "metadata": {},
     "output_type": "execute_result"
    }
   ],
   "source": [
    "s"
   ]
  },
  {
   "cell_type": "code",
   "execution_count": 7,
   "metadata": {},
   "outputs": [
    {
     "data": {
      "text/plain": [
       "([1, 2, 3, 'a', 'b'], {1, 2, 3, 'a', 'b'}, (1, 2, 3, 'a', 'b'))"
      ]
     },
     "execution_count": 7,
     "metadata": {},
     "output_type": "execute_result"
    }
   ],
   "source": [
    "list(t), set(t), tuple(t)"
   ]
  },
  {
   "cell_type": "code",
   "execution_count": 13,
   "metadata": {},
   "outputs": [],
   "source": [
    "def add_3(a, b, c):\n",
    "    '''\n",
    "    이 함수는 값 3개를 더해서 리턴합니다.\n",
    "    작성자 : 오민주 (2019.06.12)\n",
    "    '''\n",
    "    return a+b+c"
   ]
  },
  {
   "cell_type": "code",
   "execution_count": 14,
   "metadata": {},
   "outputs": [
    {
     "data": {
      "text/plain": [
       "6"
      ]
     },
     "execution_count": 14,
     "metadata": {},
     "output_type": "execute_result"
    }
   ],
   "source": [
    "add_3(1, 2, 3)"
   ]
  },
  {
   "cell_type": "code",
   "execution_count": 25,
   "metadata": {},
   "outputs": [],
   "source": [
    "def check_nan(x):\n",
    "    if math.isnan(x): #nan : not a number\n",
    "        print(x, '는 난입니다.')\n",
    "    else:\n",
    "        print(x, '는 숫자입니다.')"
   ]
  },
  {
   "cell_type": "code",
   "execution_count": 27,
   "metadata": {},
   "outputs": [
    {
     "name": "stdout",
     "output_type": "stream",
     "text": [
      "100 는 숫자입니다.\n",
      "None\n"
     ]
    }
   ],
   "source": [
    "out = check_nan(100)\n",
    "print(out)"
   ]
  },
  {
   "cell_type": "code",
   "execution_count": 37,
   "metadata": {},
   "outputs": [],
   "source": [
    "import random"
   ]
  },
  {
   "cell_type": "code",
   "execution_count": 92,
   "metadata": {},
   "outputs": [],
   "source": [
    "class Lotto:\n",
    "    '''\n",
    "    1~45 숫자 중에서 6개를 맞추는 게임 : 1등이 1~45의 숫자\n",
    "    '''\n",
    "    def __init__(self):\n",
    "        self.target = [] #self 붙이면 클래스 변수가 됩니다.\n",
    "        print('로또 숫자 생성기')\n",
    "        for i in range(6):\n",
    "            v = random.randint(1, 45)\n",
    "            while(v in self.target):\n",
    "                v = random.randint(1, 45)\n",
    "            self.target.append(v)\n",
    "        print(self.target)\n",
    "        \n",
    "    def select(self, nums):\n",
    "        print('정답 : ', self.target, '예측 : ', nums)\n",
    "        k=0\n",
    "        i=0\n",
    "        for i in range(6):\n",
    "            if nums[i] in self.target:\n",
    "                k += 1\n",
    "        if k>0:\n",
    "            print(k, '개 맞췄습니다.')\n",
    "        else:\n",
    "            print('하나도 못맞췄습니다.')"
   ]
  },
  {
   "cell_type": "code",
   "execution_count": 95,
   "metadata": {},
   "outputs": [
    {
     "name": "stdout",
     "output_type": "stream",
     "text": [
      "로또 숫자 생성기\n",
      "[41, 4, 21, 33, 36, 10]\n",
      "로또 숫자 생성기\n",
      "[43, 28, 8, 30, 3, 29]\n"
     ]
    }
   ],
   "source": [
    "lotto1 = Lotto()\n",
    "lotto2 = Lotto()\n"
   ]
  },
  {
   "cell_type": "code",
   "execution_count": 97,
   "metadata": {},
   "outputs": [
    {
     "name": "stdout",
     "output_type": "stream",
     "text": [
      "정답 :  [41, 4, 21, 33, 36, 10] 예측 :  [1, 3, 5, 6, 8, 10]\n",
      "1 개 맞췄습니다.\n",
      "정답 :  [41, 4, 21, 33, 36, 10] 예측 :  [10, 20, 30, 40, 50, 1]\n",
      "1 개 맞췄습니다.\n",
      "정답 :  [41, 4, 21, 33, 36, 10] 예측 :  [1, 2, 3, 4, 5, 6]\n",
      "1 개 맞췄습니다.\n",
      "정답 :  [43, 28, 8, 30, 3, 29] 예측 :  [1, 3, 5, 6, 8, 10]\n",
      "2 개 맞췄습니다.\n",
      "정답 :  [43, 28, 8, 30, 3, 29] 예측 :  [10, 20, 30, 40, 50, 1]\n",
      "1 개 맞췄습니다.\n",
      "정답 :  [43, 28, 8, 30, 3, 29] 예측 :  [1, 2, 3, 4, 5, 6]\n",
      "1 개 맞췄습니다.\n"
     ]
    }
   ],
   "source": [
    "my_choice = [[1, 3, 5, 6, 8, 10],[10, 20, 30, 40, 50, 1],[1, 2, 3, 4, 5, 6]]\n",
    "\n",
    "for i in range(len(my_choice)):\n",
    "    lotto1.select(my_choice[i])\n",
    "    \n",
    "for i in range(len(my_choice)):\n",
    "    lotto2.select(my_choice[i])"
   ]
  },
  {
   "cell_type": "code",
   "execution_count": null,
   "metadata": {},
   "outputs": [],
   "source": []
  }
 ],
 "metadata": {
  "kernelspec": {
   "display_name": "Python 3",
   "language": "python",
   "name": "python3"
  },
  "language_info": {
   "codemirror_mode": {
    "name": "ipython",
    "version": 3
   },
   "file_extension": ".py",
   "mimetype": "text/x-python",
   "name": "python",
   "nbconvert_exporter": "python",
   "pygments_lexer": "ipython3",
   "version": "3.7.3"
  }
 },
 "nbformat": 4,
 "nbformat_minor": 2
}
