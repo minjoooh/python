{
 "cells": [
  {
   "cell_type": "markdown",
   "metadata": {},
   "source": [
    "# p73 선형 회귀 모델\n",
    "- 데이터를 선형 함수로 모델링\n",
    "- 최소제곱법 : 평균제곱오차를 최소화하는 파라미터를 찾는다\n",
    "    - 파라미터를 줄기고 키우고를 반복 (예시)\n",
    "    - 오파를 파라미터로 미분한 값만큼 조절 (경사하강법)\n",
    "    - 정규방정식으로 찾기 (빠르나, 데이터가 많아지면 메모리 부족)\n",
    "- 평균제곱오차 : 오차(예측과 정답의 차이)를 제곱 > 모든 샘플들의 오차를 평균"
   ]
  },
  {
   "cell_type": "markdown",
   "metadata": {},
   "source": [
    "- 1차원(vector) 데이터 : 점(dot)으로 분리\n",
    "- 2차원(mastrix) 데이터 : 선(line)으로 분리\n",
    "- 3차원(tensor, cube) 데이터 : 면(plane)으로 분리\n",
    "- 4차원(tensor) 데이터 : 곰간으로 분리\n",
    "면 이상의 차원은 초평면(hyperplane)"
   ]
  },
  {
   "cell_type": "code",
   "execution_count": 8,
   "metadata": {},
   "outputs": [],
   "source": [
    "# p74\n",
    "import numpy as np\n",
    "import pandas as pd\n",
    "import matplotlib.pyplot as plt\n",
    "from sklearn.model_selection import train_test_split\n",
    "from sklearn.neighbors import KNeighborsRegressor # regressor 실수 예측용\n",
    "import mglearn"
   ]
  },
  {
   "cell_type": "code",
   "execution_count": 9,
   "metadata": {},
   "outputs": [
    {
     "name": "stdout",
     "output_type": "stream",
     "text": [
      "w[0]: 0.393906  b: -0.031804\n"
     ]
    },
    {
     "data": {
      "image/png": "[encoded data removed]",
      "text/plain": [
       "<Figure size 576x576 with 1 Axes>"
      ]
     },
     "metadata": {
      "needs_background": "light"
     },
     "output_type": "display_data"
    }
   ],
   "source": [
    "mglearn.plots.plot_linear_regression_wave()"
   ]
  },
  {
   "cell_type": "markdown",
   "metadata": {},
   "source": [
    "# 키와 몸무게 데이터를 가지고, 몸무게로부터 키를 예측해보자"
   ]
  },
  {
   "cell_type": "code",
   "execution_count": 10,
   "metadata": {},
   "outputs": [],
   "source": [
    "몸무게 = [30,60,70,90]\n",
    "키 = [120,160,170,190]\n",
    "몸무게_test = [65,80]"
   ]
  },
  {
   "cell_type": "code",
   "execution_count": 20,
   "metadata": {},
   "outputs": [],
   "source": [
    "# 4행 1열로 변환\n",
    "몸무게 = np.array(몸무게).reshape((4, 1))\n",
    "키 = np.array(키)\n",
    "몸무게_test = np.array(몸무게_test).reshape((-1, 1))"
   ]
  },
  {
   "cell_type": "code",
   "execution_count": 21,
   "metadata": {},
   "outputs": [],
   "source": [
    "# p76 모델 선택\n",
    "from sklearn.linear_model import LinearRegression\n",
    "lr = LinearRegression()"
   ]
  },
  {
   "cell_type": "code",
   "execution_count": 22,
   "metadata": {},
   "outputs": [
    {
     "data": {
      "text/plain": [
       "LinearRegression(copy_X=True, fit_intercept=True, n_jobs=None,\n",
       "         normalize=False)"
      ]
     },
     "execution_count": 22,
     "metadata": {},
     "output_type": "execute_result"
    }
   ],
   "source": [
    "# fit - w와 b를 조절\n",
    "lr.fit(X=몸무게, y=키)"
   ]
  },
  {
   "cell_type": "code",
   "execution_count": 27,
   "metadata": {},
   "outputs": [
    {
     "data": {
      "text/plain": [
       "(array([[65],\n",
       "        [80]]), array([[162.93333333],\n",
       "        [180.53333333]]))"
      ]
     },
     "execution_count": 27,
     "metadata": {},
     "output_type": "execute_result"
    }
   ],
   "source": [
    "몸무게_test, lr.predict(몸무게_test)"
   ]
  },
  {
   "cell_type": "code",
   "execution_count": 28,
   "metadata": {},
   "outputs": [
    {
     "data": {
      "text/plain": [
       "0.9928205128205129"
      ]
     },
     "execution_count": 28,
     "metadata": {},
     "output_type": "execute_result"
    }
   ],
   "source": [
    "lr.score(몸무게,키)"
   ]
  },
  {
   "cell_type": "code",
   "execution_count": 29,
   "metadata": {},
   "outputs": [
    {
     "data": {
      "text/plain": [
       "(array([[1.17333333]]), array([86.66666667]))"
      ]
     },
     "execution_count": 29,
     "metadata": {},
     "output_type": "execute_result"
    }
   ],
   "source": [
    "# 계수 w(lr.coef_)와 절편 b(lr.coef_)\n",
    "lr.coef_, lr.intercept_"
   ]
  },
  {
   "cell_type": "code",
   "execution_count": 30,
   "metadata": {},
   "outputs": [
    {
     "data": {
      "text/plain": [
       "array([[121.86666667],\n",
       "       [157.06666667],\n",
       "       [168.8       ],\n",
       "       [192.26666667]])"
      ]
     },
     "execution_count": 30,
     "metadata": {},
     "output_type": "execute_result"
    }
   ],
   "source": [
    "lr.coef_*몸무게 + lr.intercept_ # y = w*x + b"
   ]
  },
  {
   "cell_type": "markdown",
   "metadata": {},
   "source": [
    "# LinearRegression으로 내일의 코스피 200 종가 예측하기\n",
    "- 샘플 : 하루의 총 일거래 정보\n",
    "- 입력 : X : 하루 전 데이터\n",
    "- 출력 : y : 다음 날의 종가\n",
    "- 데이터 총 m=10, 학습용 8, 테스트 2\n",
    "- 정규화는 생략"
   ]
  },
  {
   "cell_type": "code",
   "execution_count": 55,
   "metadata": {},
   "outputs": [
    {
     "data": {
      "text/plain": [
       "3"
      ]
     },
     "execution_count": 55,
     "metadata": {},
     "output_type": "execute_result"
    }
   ],
   "source": [
    "# 1. 데이터 읽어들이기\n",
    "url = '코스피200 _ 다음 금융.html'\n",
    "tables = pd.read_html(url, index_col=0) #날짜로 인덱스\n",
    "len(tables)"
   ]
  },
  {
   "cell_type": "code",
   "execution_count": 56,
   "metadata": {},
   "outputs": [
    {
     "name": "stdout",
     "output_type": "stream",
     "text": [
      "(10, 6)\n",
      "(10, 8)\n",
      "(10, 7)\n"
     ]
    }
   ],
   "source": [
    "for table in tables:\n",
    "    print(table.shape)"
   ]
  },
  {
   "cell_type": "code",
   "execution_count": 57,
   "metadata": {},
   "outputs": [
    {
     "data": {
      "text/html": [
       "<div>\n",
       "<style scoped>\n",
       "    .dataframe tbody tr th:only-of-type {\n",
       "        vertical-align: middle;\n",
       "    }\n",
       "\n",
       "    .dataframe tbody tr th {\n",
       "        vertical-align: top;\n",
       "    }\n",
       "\n",
       "    .dataframe thead th {\n",
       "        text-align: right;\n",
       "    }\n",
       "</style>\n",
       "<table border=\"1\" class=\"dataframe\">\n",
       "  <thead>\n",
       "    <tr style=\"text-align: right;\">\n",
       "      <th></th>\n",
       "      <th>종가</th>\n",
       "      <th>전일비</th>\n",
       "      <th>등락률</th>\n",
       "      <th>거래량</th>\n",
       "      <th>거래대금</th>\n",
       "      <th>개인(억)</th>\n",
       "      <th>외국인(억)</th>\n",
       "      <th>기관(억)</th>\n",
       "    </tr>\n",
       "    <tr>\n",
       "      <th>일자</th>\n",
       "      <th></th>\n",
       "      <th></th>\n",
       "      <th></th>\n",
       "      <th></th>\n",
       "      <th></th>\n",
       "      <th></th>\n",
       "      <th></th>\n",
       "      <th></th>\n",
       "    </tr>\n",
       "  </thead>\n",
       "  <tbody>\n",
       "    <tr>\n",
       "      <th>19.07.02</th>\n",
       "      <td>276.86</td>\n",
       "      <td>▼0.41</td>\n",
       "      <td>-0.15%</td>\n",
       "      <td>21594</td>\n",
       "      <td>785504</td>\n",
       "      <td>327</td>\n",
       "      <td>36</td>\n",
       "      <td>-341</td>\n",
       "    </tr>\n",
       "    <tr>\n",
       "      <th>19.07.01</th>\n",
       "      <td>277.27</td>\n",
       "      <td>▼0.23</td>\n",
       "      <td>-0.08%</td>\n",
       "      <td>74357</td>\n",
       "      <td>3446049</td>\n",
       "      <td>-214</td>\n",
       "      <td>1286</td>\n",
       "      <td>365</td>\n",
       "    </tr>\n",
       "    <tr>\n",
       "      <th>19.06.28</th>\n",
       "      <td>277.50</td>\n",
       "      <td>▼0.25</td>\n",
       "      <td>-0.09%</td>\n",
       "      <td>67598</td>\n",
       "      <td>2879563</td>\n",
       "      <td>-1802</td>\n",
       "      <td>3011</td>\n",
       "      <td>-1189</td>\n",
       "    </tr>\n",
       "    <tr>\n",
       "      <th>19.06.27</th>\n",
       "      <td>277.75</td>\n",
       "      <td>▲2.22</td>\n",
       "      <td>+0.81%</td>\n",
       "      <td>66303</td>\n",
       "      <td>3357666</td>\n",
       "      <td>-4165</td>\n",
       "      <td>1837</td>\n",
       "      <td>2415</td>\n",
       "    </tr>\n",
       "    <tr>\n",
       "      <th>19.06.26</th>\n",
       "      <td>275.53</td>\n",
       "      <td>▲0.25</td>\n",
       "      <td>+0.09%</td>\n",
       "      <td>58818</td>\n",
       "      <td>2636531</td>\n",
       "      <td>-712</td>\n",
       "      <td>157</td>\n",
       "      <td>557</td>\n",
       "    </tr>\n",
       "    <tr>\n",
       "      <th>19.06.25</th>\n",
       "      <td>275.28</td>\n",
       "      <td>▼0.30</td>\n",
       "      <td>-0.11%</td>\n",
       "      <td>60506</td>\n",
       "      <td>2635188</td>\n",
       "      <td>-364</td>\n",
       "      <td>277</td>\n",
       "      <td>-12</td>\n",
       "    </tr>\n",
       "    <tr>\n",
       "      <th>19.06.24</th>\n",
       "      <td>275.58</td>\n",
       "      <td>▲0.10</td>\n",
       "      <td>+0.04%</td>\n",
       "      <td>55539</td>\n",
       "      <td>2235175</td>\n",
       "      <td>-978</td>\n",
       "      <td>-1048</td>\n",
       "      <td>1966</td>\n",
       "    </tr>\n",
       "    <tr>\n",
       "      <th>19.06.21</th>\n",
       "      <td>275.48</td>\n",
       "      <td>▼0.53</td>\n",
       "      <td>-0.19%</td>\n",
       "      <td>77279</td>\n",
       "      <td>3275700</td>\n",
       "      <td>538</td>\n",
       "      <td>206</td>\n",
       "      <td>-767</td>\n",
       "    </tr>\n",
       "    <tr>\n",
       "      <th>19.06.20</th>\n",
       "      <td>276.01</td>\n",
       "      <td>▲0.70</td>\n",
       "      <td>+0.25%</td>\n",
       "      <td>55336</td>\n",
       "      <td>2417864</td>\n",
       "      <td>-1342</td>\n",
       "      <td>-434</td>\n",
       "      <td>1762</td>\n",
       "    </tr>\n",
       "    <tr>\n",
       "      <th>19.06.19</th>\n",
       "      <td>275.31</td>\n",
       "      <td>▲3.95</td>\n",
       "      <td>+1.46%</td>\n",
       "      <td>69733</td>\n",
       "      <td>3134202</td>\n",
       "      <td>-4430</td>\n",
       "      <td>2876</td>\n",
       "      <td>1606</td>\n",
       "    </tr>\n",
       "  </tbody>\n",
       "</table>\n",
       "</div>"
      ],
      "text/plain": [
       "              종가    전일비     등락률    거래량     거래대금  개인(억)  외국인(억)  기관(억)\n",
       "일자                                                                   \n",
       "19.07.02  276.86  ▼0.41  -0.15%  21594   785504    327      36   -341\n",
       "19.07.01  277.27  ▼0.23  -0.08%  74357  3446049   -214    1286    365\n",
       "19.06.28  277.50  ▼0.25  -0.09%  67598  2879563  -1802    3011  -1189\n",
       "19.06.27  277.75  ▲2.22  +0.81%  66303  3357666  -4165    1837   2415\n",
       "19.06.26  275.53  ▲0.25  +0.09%  58818  2636531   -712     157    557\n",
       "19.06.25  275.28  ▼0.30  -0.11%  60506  2635188   -364     277    -12\n",
       "19.06.24  275.58  ▲0.10  +0.04%  55539  2235175   -978   -1048   1966\n",
       "19.06.21  275.48  ▼0.53  -0.19%  77279  3275700    538     206   -767\n",
       "19.06.20  276.01  ▲0.70  +0.25%  55336  2417864  -1342    -434   1762\n",
       "19.06.19  275.31  ▲3.95  +1.46%  69733  3134202  -4430    2876   1606"
      ]
     },
     "execution_count": 57,
     "metadata": {},
     "output_type": "execute_result"
    }
   ],
   "source": [
    "kospi200 = tables[1]\n",
    "kospi200"
   ]
  },
  {
   "cell_type": "code",
   "execution_count": 95,
   "metadata": {},
   "outputs": [],
   "source": [
    "# 1. 전처리 : 전일비와 등락률이 수치로 변환\n",
    "kospi200['전일비'] = kospi200['전일비'].replace('▼', '-', regex=True)\n",
    "kospi200['전일비'] = kospi200['전일비'].replace('▲', '', regex=True)\n",
    "kospi200['등락률'] = kospi200['등락률'].replace('%', '', regex=True)\n",
    "kospi200['전일비'] = kospi200['전일비'].astype(np.float)\n",
    "kospi200['등락률'] = kospi200['등락률'].astype(np.float)"
   ]
  },
  {
   "cell_type": "code",
   "execution_count": 108,
   "metadata": {},
   "outputs": [],
   "source": [
    "# min, max 정규화\n",
    "minimum = np.min(kospi200, axis=0)\n",
    "maximum = np.max(kospi200, axis=0)\n",
    "kospi200_normal = (kospi200 - minimum) / (maximum - minimum)"
   ]
  },
  {
   "cell_type": "code",
   "execution_count": 109,
   "metadata": {},
   "outputs": [
    {
     "data": {
      "text/plain": [
       "((9, 8), (9,))"
      ]
     },
     "execution_count": 109,
     "metadata": {},
     "output_type": "execute_result"
    }
   ],
   "source": [
    "# 2. 데이터 x, y로 분류\n",
    "X = kospi200_normal.iloc[1:] #오늘 데이터 제외\n",
    "y = kospi200_normal.iloc[:-1, 0] # 가장오래된 데이터와 종가 외의 데이터 제외\n",
    "X.shape, y.shape"
   ]
  },
  {
   "cell_type": "code",
   "execution_count": 110,
   "metadata": {},
   "outputs": [],
   "source": [
    "# 2. train / test 분류\n",
    "offset = 2 # 학습용 갯수\n",
    "X_train = X[offset:]\n",
    "X_test = X[:offset]\n",
    "y_train = y[offset:]\n",
    "y_test = y[:offset]"
   ]
  },
  {
   "cell_type": "code",
   "execution_count": 111,
   "metadata": {},
   "outputs": [],
   "source": [
    "# 3. LinearRegression 모델로 fit\n",
    "lr = LinearRegression()\n",
    "lr = lr.fit(X=X_train, y=y_train)"
   ]
  },
  {
   "cell_type": "code",
   "execution_count": 121,
   "metadata": {},
   "outputs": [
    {
     "data": {
      "text/plain": [
       "array([1.7739511 , 1.43068722])"
      ]
     },
     "execution_count": 121,
     "metadata": {},
     "output_type": "execute_result"
    }
   ],
   "source": [
    "# 4. 예측\n",
    "lr.predict(X_test)"
   ]
  },
  {
   "cell_type": "code",
   "execution_count": 122,
   "metadata": {},
   "outputs": [
    {
     "data": {
      "text/plain": [
       "(1.0, -120.74425838205264)"
      ]
     },
     "execution_count": 122,
     "metadata": {},
     "output_type": "execute_result"
    }
   ],
   "source": [
    "lr.score(X_train, y_train), lr.score(X_test, y_test)"
   ]
  },
  {
   "cell_type": "code",
   "execution_count": 123,
   "metadata": {},
   "outputs": [
    {
     "data": {
      "text/plain": [
       "<matplotlib.legend.Legend at 0x24caca087f0>"
      ]
     },
     "execution_count": 123,
     "metadata": {},
     "output_type": "execute_result"
    },
    {
     "data": {
      "image/png": "[encoded data removed]",
      "text/plain": [
       "<Figure size 432x288 with 1 Axes>"
      ]
     },
     "metadata": {
      "needs_background": "light"
     },
     "output_type": "display_data"
    }
   ],
   "source": [
    "train_len = np.arange(len(X_train))\n",
    "test_len = np.arange(len(X_train), len(X_train)+len(X_test))\n",
    "\n",
    "plt.plot(train_len, lr.predict(X_train), label='train_x')\n",
    "plt.plot(train_len, y_train, label='train_y')\n",
    "plt.plot(test_len, lr.predict(X_test), label='test_x')\n",
    "plt.plot(test_len, y_test, label='test_y')\n",
    "plt.legend()"
   ]
  },
  {
   "cell_type": "code",
   "execution_count": 124,
   "metadata": {},
   "outputs": [],
   "source": [
    "# p78, 릿지 모델 : w를 가장 작게 만드는 LinearRegression\n",
    "# W를 줄인다는 것은 y를 예측하는데 가능한 모든 특성을 반영하는 것 의미"
   ]
  },
  {
   "cell_type": "code",
   "execution_count": 125,
   "metadata": {},
   "outputs": [],
   "source": [
    "from sklearn.linear_model import Ridge\n",
    "rg = Ridge().fit(X=X_train, y=y_train)"
   ]
  },
  {
   "cell_type": "code",
   "execution_count": 126,
   "metadata": {},
   "outputs": [
    {
     "data": {
      "text/plain": [
       "(0.25839492714099543, -4.0621232249646715)"
      ]
     },
     "execution_count": 126,
     "metadata": {},
     "output_type": "execute_result"
    }
   ],
   "source": [
    "rg.score(X_train, y_train), rg.score(X_test, y_test)"
   ]
  },
  {
   "cell_type": "code",
   "execution_count": 127,
   "metadata": {},
   "outputs": [
    {
     "data": {
      "text/plain": [
       "<matplotlib.legend.Legend at 0x24cacce4d30>"
      ]
     },
     "execution_count": 127,
     "metadata": {},
     "output_type": "execute_result"
    },
    {
     "data": {
      "image/png": "[encoded data removed]",
      "text/plain": [
       "<Figure size 432x288 with 1 Axes>"
      ]
     },
     "metadata": {
      "needs_background": "light"
     },
     "output_type": "display_data"
    }
   ],
   "source": [
    "train_len = np.arange(len(X_train))\n",
    "test_len = np.arange(len(X_train), len(X_train)+len(X_test))\n",
    "\n",
    "plt.plot(train_len, rg.predict(X_train), label='train_x')\n",
    "plt.plot(train_len, y_train, label='train_y')\n",
    "plt.plot(test_len, rg.predict(X_test), label='test_x')\n",
    "plt.plot(test_len, y_test, label='test_y')\n",
    "plt.legend()"
   ]
  },
  {
   "cell_type": "code",
   "execution_count": 129,
   "metadata": {},
   "outputs": [
    {
     "data": {
      "text/plain": [
       "array([-0.09522234, -8.34802525,  7.50632994, -0.31561531,  3.49775934,\n",
       "        0.95385208,  1.79325718, -0.00856529])"
      ]
     },
     "execution_count": 129,
     "metadata": {},
     "output_type": "execute_result"
    }
   ],
   "source": [
    "lr.coef_"
   ]
  },
  {
   "cell_type": "code",
   "execution_count": 130,
   "metadata": {},
   "outputs": [
    {
     "data": {
      "text/plain": [
       "array([ 0.22328114, -0.0288523 ,  0.03208483, -0.01701279,  0.06959784,\n",
       "       -0.08884177,  0.12466412, -0.00212489])"
      ]
     },
     "execution_count": 130,
     "metadata": {},
     "output_type": "execute_result"
    }
   ],
   "source": [
    "rg.coef_"
   ]
  },
  {
   "cell_type": "markdown",
   "metadata": {},
   "source": [
    "# p82, 라소 모델\n",
    "- 라소는 L1규제(abs), 릿지는 L2규제(square)\n",
    "- 몇가지 특징만 사용해서 y를 예측하고 싶을 때"
   ]
  },
  {
   "cell_type": "code",
   "execution_count": 131,
   "metadata": {},
   "outputs": [],
   "source": [
    "from sklearn.linear_model import Lasso"
   ]
  },
  {
   "cell_type": "code",
   "execution_count": 160,
   "metadata": {},
   "outputs": [
    {
     "data": {
      "text/html": [
       "<div>\n",
       "<style scoped>\n",
       "    .dataframe tbody tr th:only-of-type {\n",
       "        vertical-align: middle;\n",
       "    }\n",
       "\n",
       "    .dataframe tbody tr th {\n",
       "        vertical-align: top;\n",
       "    }\n",
       "\n",
       "    .dataframe thead th {\n",
       "        text-align: right;\n",
       "    }\n",
       "</style>\n",
       "<table border=\"1\" class=\"dataframe\">\n",
       "  <thead>\n",
       "    <tr style=\"text-align: right;\">\n",
       "      <th></th>\n",
       "      <th>Unnamed: 1</th>\n",
       "      <th>Unnamed: 2</th>\n",
       "      <th>Unnamed: 3</th>\n",
       "      <th>Unnamed: 4</th>\n",
       "      <th>Unnamed: 5</th>\n",
       "      <th>상승2.87</th>\n",
       "      <th>Unnamed: 7</th>\n",
       "      <th>Unnamed: 8</th>\n",
       "    </tr>\n",
       "  </thead>\n",
       "  <tbody>\n",
       "    <tr>\n",
       "      <th>2019.07.01</th>\n",
       "      <td>1,084.63</td>\n",
       "      <td>1,063.81</td>\n",
       "      <td>1,093.01</td>\n",
       "      <td>1,055.43</td>\n",
       "      <td>1,087.11/td&gt;</td>\n",
       "      <td>1,074.22</td>\n",
       "      <td>1,066.74</td>\n",
       "      <td>0.92</td>\n",
       "    </tr>\n",
       "    <tr>\n",
       "      <th>NaN</th>\n",
       "      <td>NaN</td>\n",
       "      <td>NaN</td>\n",
       "      <td>NaN</td>\n",
       "      <td>NaN</td>\n",
       "      <td>NaN</td>\n",
       "      <td>상승1.42</td>\n",
       "      <td>NaN</td>\n",
       "      <td>NaN</td>\n",
       "    </tr>\n",
       "    <tr>\n",
       "      <th>2019.06.28</th>\n",
       "      <td>1,083.20</td>\n",
       "      <td>1,062.40</td>\n",
       "      <td>1,091.57</td>\n",
       "      <td>1,054.03</td>\n",
       "      <td>1,085.67/td&gt;</td>\n",
       "      <td>1,072.80</td>\n",
       "      <td>1,073.35</td>\n",
       "      <td>0.92</td>\n",
       "    </tr>\n",
       "    <tr>\n",
       "      <th>NaN</th>\n",
       "      <td>NaN</td>\n",
       "      <td>NaN</td>\n",
       "      <td>NaN</td>\n",
       "      <td>NaN</td>\n",
       "      <td>NaN</td>\n",
       "      <td>상승0.30</td>\n",
       "      <td>NaN</td>\n",
       "      <td>NaN</td>\n",
       "    </tr>\n",
       "    <tr>\n",
       "      <th>2019.06.27</th>\n",
       "      <td>1,082.90</td>\n",
       "      <td>1,062.10</td>\n",
       "      <td>1,091.26</td>\n",
       "      <td>1,053.74</td>\n",
       "      <td>1,085.37/td&gt;</td>\n",
       "      <td>1,072.50</td>\n",
       "      <td>1,075.00</td>\n",
       "      <td>0.92</td>\n",
       "    </tr>\n",
       "  </tbody>\n",
       "</table>\n",
       "</div>"
      ],
      "text/plain": [
       "           Unnamed: 1 Unnamed: 2 Unnamed: 3 Unnamed: 4    Unnamed: 5  \\\n",
       "2019.07.01   1,084.63   1,063.81   1,093.01   1,055.43  1,087.11/td>   \n",
       "NaN               NaN        NaN        NaN        NaN           NaN   \n",
       "2019.06.28   1,083.20   1,062.40   1,091.57   1,054.03  1,085.67/td>   \n",
       "NaN               NaN        NaN        NaN        NaN           NaN   \n",
       "2019.06.27   1,082.90   1,062.10   1,091.26   1,053.74  1,085.37/td>   \n",
       "\n",
       "              상승2.87 Unnamed: 7  Unnamed: 8  \n",
       "2019.07.01  1,074.22   1,066.74        0.92  \n",
       "NaN           상승1.42        NaN         NaN  \n",
       "2019.06.28  1,072.80   1,073.35        0.92  \n",
       "NaN           상승0.30        NaN         NaN  \n",
       "2019.06.27  1,072.50   1,075.00        0.92  "
      ]
     },
     "execution_count": 160,
     "metadata": {},
     "output_type": "execute_result"
    }
   ],
   "source": [
    "# 1. 데이터 읽기\n",
    "f = 'japan_money.csv'\n",
    "df = pd.read_csv(f, encoding='cp949', index_col=0, header=3)\n",
    "df.head()"
   ]
  },
  {
   "cell_type": "code",
   "execution_count": 144,
   "metadata": {},
   "outputs": [
    {
     "data": {
      "text/html": [
       "<div>\n",
       "<style scoped>\n",
       "    .dataframe tbody tr th:only-of-type {\n",
       "        vertical-align: middle;\n",
       "    }\n",
       "\n",
       "    .dataframe tbody tr th {\n",
       "        vertical-align: top;\n",
       "    }\n",
       "\n",
       "    .dataframe thead th {\n",
       "        text-align: right;\n",
       "    }\n",
       "</style>\n",
       "<table border=\"1\" class=\"dataframe\">\n",
       "  <thead>\n",
       "    <tr style=\"text-align: right;\">\n",
       "      <th></th>\n",
       "      <th>보내실때</th>\n",
       "      <th>받으실때</th>\n",
       "      <th>사실때</th>\n",
       "      <th>파실때</th>\n",
       "    </tr>\n",
       "  </thead>\n",
       "  <tbody>\n",
       "    <tr>\n",
       "      <th>2019.07.02</th>\n",
       "      <td>1,087.53</td>\n",
       "      <td>1,066.65</td>\n",
       "      <td>1,095.93</td>\n",
       "      <td>1,058.25</td>\n",
       "    </tr>\n",
       "    <tr>\n",
       "      <th>2019.07.01</th>\n",
       "      <td>1,084.63</td>\n",
       "      <td>1,063.81</td>\n",
       "      <td>1,093.01</td>\n",
       "      <td>1,055.43</td>\n",
       "    </tr>\n",
       "    <tr>\n",
       "      <th>2019.06.28</th>\n",
       "      <td>1,083.20</td>\n",
       "      <td>1,062.40</td>\n",
       "      <td>1,091.57</td>\n",
       "      <td>1,054.03</td>\n",
       "    </tr>\n",
       "    <tr>\n",
       "      <th>2019.06.27</th>\n",
       "      <td>1,082.90</td>\n",
       "      <td>1,062.10</td>\n",
       "      <td>1,091.26</td>\n",
       "      <td>1,053.74</td>\n",
       "    </tr>\n",
       "    <tr>\n",
       "      <th>2019.06.26</th>\n",
       "      <td>1,086.17</td>\n",
       "      <td>1,065.31</td>\n",
       "      <td>1,094.56</td>\n",
       "      <td>1,056.92</td>\n",
       "    </tr>\n",
       "  </tbody>\n",
       "</table>\n",
       "</div>"
      ],
      "text/plain": [
       "                보내실때      받으실때       사실때       파실때\n",
       "2019.07.02  1,087.53  1,066.65  1,095.93  1,058.25\n",
       "2019.07.01  1,084.63  1,063.81  1,093.01  1,055.43\n",
       "2019.06.28  1,083.20  1,062.40  1,091.57  1,054.03\n",
       "2019.06.27  1,082.90  1,062.10  1,091.26  1,053.74\n",
       "2019.06.26  1,086.17  1,065.31  1,094.56  1,056.92"
      ]
     },
     "execution_count": 144,
     "metadata": {},
     "output_type": "execute_result"
    }
   ],
   "source": [
    "# 1. 데이터 정제\n",
    "df4 = df.iloc[:, :4]\n",
    "df4 = df4.dropna()\n",
    "df4.head()"
   ]
  },
  {
   "cell_type": "code",
   "execution_count": 146,
   "metadata": {},
   "outputs": [
    {
     "name": "stdout",
     "output_type": "stream",
     "text": [
      "<class 'pandas.core.frame.DataFrame'>\n",
      "Index: 248 entries, 2019.07.02 to 2018.06.29\n",
      "Data columns (total 4 columns):\n",
      "보내실때    248 non-null object\n",
      "받으실때    248 non-null object\n",
      "사실때     248 non-null object\n",
      "파실때     248 non-null object\n",
      "dtypes: object(4)\n",
      "memory usage: 9.7+ KB\n"
     ]
    }
   ],
   "source": [
    "# 1. 데이터 전처리\n",
    "df4.info()"
   ]
  },
  {
   "cell_type": "code",
   "execution_count": 150,
   "metadata": {},
   "outputs": [],
   "source": [
    "df4 = df4.replace(',', '', regex=True)\n",
    "df4 = df4.astype(np.float)"
   ]
  },
  {
   "cell_type": "code",
   "execution_count": 154,
   "metadata": {},
   "outputs": [
    {
     "data": {
      "text/plain": [
       "<matplotlib.axes._subplots.AxesSubplot at 0x24caf52e4a8>"
      ]
     },
     "execution_count": 154,
     "metadata": {},
     "output_type": "execute_result"
    },
    {
     "data": {
      "image/png": "[encoded data removed]",
      "text/plain": [
       "<Figure size 432x288 with 1 Axes>"
      ]
     },
     "metadata": {
      "needs_background": "light"
     },
     "output_type": "display_data"
    }
   ],
   "source": [
    "plt.rc('font', family='Malgun Gothic')\n",
    "df4.iloc[::-1].plot()"
   ]
  },
  {
   "cell_type": "code",
   "execution_count": 164,
   "metadata": {},
   "outputs": [
    {
     "data": {
      "text/html": [
       "<div>\n",
       "<style scoped>\n",
       "    .dataframe tbody tr th:only-of-type {\n",
       "        vertical-align: middle;\n",
       "    }\n",
       "\n",
       "    .dataframe tbody tr th {\n",
       "        vertical-align: top;\n",
       "    }\n",
       "\n",
       "    .dataframe thead th {\n",
       "        text-align: right;\n",
       "    }\n",
       "</style>\n",
       "<table border=\"1\" class=\"dataframe\">\n",
       "  <thead>\n",
       "    <tr style=\"text-align: right;\">\n",
       "      <th></th>\n",
       "      <th>원자료</th>\n",
       "      <th>원자료.1</th>\n",
       "    </tr>\n",
       "    <tr>\n",
       "      <th>변환</th>\n",
       "      <th></th>\n",
       "      <th></th>\n",
       "    </tr>\n",
       "  </thead>\n",
       "  <tbody>\n",
       "    <tr>\n",
       "      <th>2018/06/29</th>\n",
       "      <td>1121.7</td>\n",
       "      <td>1014.79</td>\n",
       "    </tr>\n",
       "    <tr>\n",
       "      <th>2018/06/30</th>\n",
       "      <td>NaN</td>\n",
       "      <td>NaN</td>\n",
       "    </tr>\n",
       "    <tr>\n",
       "      <th>2018/07/01</th>\n",
       "      <td>NaN</td>\n",
       "      <td>NaN</td>\n",
       "    </tr>\n",
       "    <tr>\n",
       "      <th>2018/07/02</th>\n",
       "      <td>1117.2</td>\n",
       "      <td>1009.26</td>\n",
       "    </tr>\n",
       "    <tr>\n",
       "      <th>2018/07/03</th>\n",
       "      <td>1117.4</td>\n",
       "      <td>1008.26</td>\n",
       "    </tr>\n",
       "  </tbody>\n",
       "</table>\n",
       "</div>"
      ],
      "text/plain": [
       "               원자료    원자료.1\n",
       "변환                         \n",
       "2018/06/29  1121.7  1014.79\n",
       "2018/06/30     NaN      NaN\n",
       "2018/07/01     NaN      NaN\n",
       "2018/07/02  1117.2  1009.26\n",
       "2018/07/03  1117.4  1008.26"
      ]
     },
     "execution_count": 164,
     "metadata": {},
     "output_type": "execute_result"
    }
   ],
   "source": [
    "# 1. 데이터 읽기\n",
    "f = '8.8.1.1 주요국통화의 대원화 환.xls'\n",
    "df2 = pd.read_excel(f, index_col=0, header=3)\n",
    "df2.head()"
   ]
  },
  {
   "cell_type": "code",
   "execution_count": 168,
   "metadata": {},
   "outputs": [
    {
     "data": {
      "text/html": [
       "<div>\n",
       "<style scoped>\n",
       "    .dataframe tbody tr th:only-of-type {\n",
       "        vertical-align: middle;\n",
       "    }\n",
       "\n",
       "    .dataframe tbody tr th {\n",
       "        vertical-align: top;\n",
       "    }\n",
       "\n",
       "    .dataframe thead th {\n",
       "        text-align: right;\n",
       "    }\n",
       "</style>\n",
       "<table border=\"1\" class=\"dataframe\">\n",
       "  <thead>\n",
       "    <tr style=\"text-align: right;\">\n",
       "      <th></th>\n",
       "      <th>미국달러</th>\n",
       "      <th>일본엔</th>\n",
       "    </tr>\n",
       "    <tr>\n",
       "      <th>변환</th>\n",
       "      <th></th>\n",
       "      <th></th>\n",
       "    </tr>\n",
       "  </thead>\n",
       "  <tbody>\n",
       "    <tr>\n",
       "      <th>2018/06/29</th>\n",
       "      <td>1121.7</td>\n",
       "      <td>1014.79</td>\n",
       "    </tr>\n",
       "    <tr>\n",
       "      <th>2018/07/02</th>\n",
       "      <td>1117.2</td>\n",
       "      <td>1009.26</td>\n",
       "    </tr>\n",
       "    <tr>\n",
       "      <th>2018/07/03</th>\n",
       "      <td>1117.4</td>\n",
       "      <td>1008.26</td>\n",
       "    </tr>\n",
       "    <tr>\n",
       "      <th>2018/07/04</th>\n",
       "      <td>1121.1</td>\n",
       "      <td>1014.34</td>\n",
       "    </tr>\n",
       "    <tr>\n",
       "      <th>2018/07/05</th>\n",
       "      <td>1115.3</td>\n",
       "      <td>1009.55</td>\n",
       "    </tr>\n",
       "  </tbody>\n",
       "</table>\n",
       "</div>"
      ],
      "text/plain": [
       "              미국달러      일본엔\n",
       "변환                         \n",
       "2018/06/29  1121.7  1014.79\n",
       "2018/07/02  1117.2  1009.26\n",
       "2018/07/03  1117.4  1008.26\n",
       "2018/07/04  1121.1  1014.34\n",
       "2018/07/05  1115.3  1009.55"
      ]
     },
     "execution_count": 168,
     "metadata": {},
     "output_type": "execute_result"
    }
   ],
   "source": [
    "df2.columns = ['미국달러', '일본엔']\n",
    "df2 = df2.dropna()\n",
    "df2.head()"
   ]
  },
  {
   "cell_type": "code",
   "execution_count": 169,
   "metadata": {},
   "outputs": [
    {
     "data": {
      "text/plain": [
       "<matplotlib.axes._subplots.AxesSubplot at 0x24caf627a90>"
      ]
     },
     "execution_count": 169,
     "metadata": {},
     "output_type": "execute_result"
    },
    {
     "data": {
      "image/png": "[encoded data removed]",
      "text/plain": [
       "<Figure size 432x288 with 1 Axes>"
      ]
     },
     "metadata": {
      "needs_background": "light"
     },
     "output_type": "display_data"
    }
   ],
   "source": [
    "df2.plot()"
   ]
  },
  {
   "cell_type": "code",
   "execution_count": 175,
   "metadata": {},
   "outputs": [],
   "source": [
    "window_week = 4\n",
    "window_day = window_week * 5\n",
    "predict_day = 5"
   ]
  },
  {
   "cell_type": "code",
   "execution_count": 173,
   "metadata": {},
   "outputs": [],
   "source": [
    "# x, y 갯수\n",
    "# 데이터가 30개 있으면? 20개로부터 5일 예측하므로 (20+5) = 1샘플, 총 5샘플"
   ]
  },
  {
   "cell_type": "code",
   "execution_count": 178,
   "metadata": {},
   "outputs": [
    {
     "data": {
      "text/plain": [
       "(248, 224)"
      ]
     },
     "execution_count": 178,
     "metadata": {},
     "output_type": "execute_result"
    }
   ],
   "source": [
    "# 현재 248개의 샘플에서 233쌍의 x와 y 만들기\n",
    "len(df2), len(df2) - (window_day + predict_day) +1"
   ]
  },
  {
   "cell_type": "code",
   "execution_count": 179,
   "metadata": {},
   "outputs": [
    {
     "data": {
      "text/plain": [
       "(24, 224)"
      ]
     },
     "execution_count": 179,
     "metadata": {},
     "output_type": "execute_result"
    }
   ],
   "source": [
    "offset = window_day + predict_day - 1\n",
    "offset,len(df2) - offset"
   ]
  },
  {
   "cell_type": "code",
   "execution_count": 185,
   "metadata": {},
   "outputs": [
    {
     "data": {
      "text/plain": [
       "((243, 2), (228, 2))"
      ]
     },
     "execution_count": 185,
     "metadata": {},
     "output_type": "execute_result"
    }
   ],
   "source": [
    "before = df2.iloc[:-predict_day]\n",
    "later = df2.iloc[window_day:]\n",
    "before.shape, later.shape"
   ]
  },
  {
   "cell_type": "code",
   "execution_count": 186,
   "metadata": {},
   "outputs": [
    {
     "data": {
      "text/plain": [
       "224"
      ]
     },
     "execution_count": 186,
     "metadata": {},
     "output_type": "execute_result"
    }
   ],
   "source": [
    "m = len(df2) - (window_day + predict_day - 1)\n",
    "m"
   ]
  },
  {
   "cell_type": "code",
   "execution_count": 190,
   "metadata": {},
   "outputs": [],
   "source": [
    "x_list = []\n",
    "y_list = []\n",
    "for i in range(m):\n",
    "    x = df2.iloc[i:i+window_day] # 20일 데이터\n",
    "    y = df2.iloc[i+window_day:i+window_day+predict_day] # 5일 데이터\n",
    "    x_list.append(x.values)\n",
    "    y_list.append(y.values)"
   ]
  },
  {
   "cell_type": "code",
   "execution_count": 193,
   "metadata": {},
   "outputs": [
    {
     "data": {
      "text/plain": [
       "((224, 20, 2), (224, 5, 2))"
      ]
     },
     "execution_count": 193,
     "metadata": {},
     "output_type": "execute_result"
    }
   ],
   "source": [
    "X = np.array(x_list)\n",
    "y = np.array(y_list)\n",
    "X.shape, y.shape # (instance, day, 특징수)"
   ]
  },
  {
   "cell_type": "code",
   "execution_count": 194,
   "metadata": {},
   "outputs": [
    {
     "data": {
      "text/plain": [
       "((224, 40), (224, 10))"
      ]
     },
     "execution_count": 194,
     "metadata": {},
     "output_type": "execute_result"
    }
   ],
   "source": [
    "X = np.reshape(X, [m, -1])\n",
    "y = np.reshape(y, [m, -1])\n",
    "X.shape, y.shape"
   ]
  },
  {
   "cell_type": "code",
   "execution_count": 196,
   "metadata": {},
   "outputs": [
    {
     "data": {
      "text/plain": [
       "((194, 40), (30, 40), (194, 10), (30, 10))"
      ]
     },
     "execution_count": 196,
     "metadata": {},
     "output_type": "execute_result"
    }
   ],
   "source": [
    "# train/test 분리\n",
    "offset = 30\n",
    "X_train = X[offset:]\n",
    "X_test = X[:offset]\n",
    "y_train = y[offset:]\n",
    "y_test = y[:offset]\n",
    "X_train.shape, X_test.shape, y_train.shape, y_test.shape"
   ]
  },
  {
   "cell_type": "code",
   "execution_count": 202,
   "metadata": {},
   "outputs": [
    {
     "data": {
      "text/plain": [
       "(0.9205409567677935, -0.6547522365360025)"
      ]
     },
     "execution_count": 202,
     "metadata": {},
     "output_type": "execute_result"
    }
   ],
   "source": [
    "# LinearRegression fit\n",
    "lr = LinearRegression().fit(X_train, y_train)\n",
    "lr.score(X_train, y_train), lr.score(X_test, y_test)"
   ]
  },
  {
   "cell_type": "code",
   "execution_count": 203,
   "metadata": {},
   "outputs": [
    {
     "data": {
      "text/plain": [
       "(0.9205409191491469, -0.6542108232125314)"
      ]
     },
     "execution_count": 203,
     "metadata": {},
     "output_type": "execute_result"
    }
   ],
   "source": [
    "# Ridge fit\n",
    "rg = Ridge().fit(X_train, y_train)\n",
    "rg.score(X_train, y_train), rg.score(X_test, y_test)"
   ]
  },
  {
   "cell_type": "code",
   "execution_count": 204,
   "metadata": {},
   "outputs": [
    {
     "data": {
      "text/plain": [
       "(0.9184648749535445, -0.4608138315986671)"
      ]
     },
     "execution_count": 204,
     "metadata": {},
     "output_type": "execute_result"
    }
   ],
   "source": [
    "# Lasso fit\n",
    "ls = Lasso().fit(X_train, y_train)\n",
    "ls.score(X_train, y_train), ls.score(X_test, y_test)"
   ]
  },
  {
   "cell_type": "code",
   "execution_count": 227,
   "metadata": {},
   "outputs": [
    {
     "data": {
      "text/plain": [
       "array([[1154.70405253, 1066.1302368 ],\n",
       "       [1154.44576025, 1065.30706598],\n",
       "       [1153.75894137, 1064.73738787],\n",
       "       [1152.28094944, 1062.86299598],\n",
       "       [1149.99673071, 1061.26929434]])"
      ]
     },
     "execution_count": 227,
     "metadata": {},
     "output_type": "execute_result"
    }
   ],
   "source": [
    "# 미래의 5일 환율 예측 그래프 시각화\n",
    "마지막20일 = df2.iloc[-window_day:].values.reshape([1, -1])\n",
    "미래5일 = ls.predict(마지막20일)\n",
    "미래5일 = np.reshape(미래5일, [predict_day, 2])\n",
    "미래5일"
   ]
  },
  {
   "cell_type": "code",
   "execution_count": 228,
   "metadata": {},
   "outputs": [
    {
     "data": {
      "text/plain": [
       "<matplotlib.legend.Legend at 0x24cb2c41dd8>"
      ]
     },
     "execution_count": 228,
     "metadata": {},
     "output_type": "execute_result"
    },
    {
     "data": {
      "image/png": "[encoded data removed]",
      "text/plain": [
       "<Figure size 432x288 with 1 Axes>"
      ]
     },
     "metadata": {
      "needs_background": "light"
     },
     "output_type": "display_data"
    }
   ],
   "source": [
    "usa = df2.iloc[:, 0].values\n",
    "japan = df2.iloc[:,1].values\n",
    "usa_x_num = np.arange(len(usa))\n",
    "usa_x1_num = np.arange(len(usa), len(usa)+len(미래5일))\n",
    "japan_x_num = np.arange(len(japan))\n",
    "japan_x1_num = np.arange(len(japan), len(japan)+len(미래5일))\n",
    "plt.plot(usa_x_num, usa, label = 'usa')\n",
    "plt.plot(japan_x_num, japan, label = 'japan')\n",
    "plt.plot(usa_x1_num, 미래5일[:,0], label = 'usa 예측')\n",
    "plt.plot(japan_x1_num, 미래5일[:,1], label = 'japan 예측')\n",
    "plt.legend()"
   ]
  },
  {
   "cell_type": "markdown",
   "metadata": {},
   "source": [
    "# 주택지수 미래 가격 예측하기\n",
    "- 강남, 강북, 수도권 집값이 서울집값에 끼치는 영향"
   ]
  },
  {
   "cell_type": "code",
   "execution_count": 259,
   "metadata": {},
   "outputs": [
    {
     "data": {
      "text/html": [
       "<div>\n",
       "<style scoped>\n",
       "    .dataframe tbody tr th:only-of-type {\n",
       "        vertical-align: middle;\n",
       "    }\n",
       "\n",
       "    .dataframe tbody tr th {\n",
       "        vertical-align: top;\n",
       "    }\n",
       "\n",
       "    .dataframe thead th {\n",
       "        text-align: right;\n",
       "    }\n",
       "</style>\n",
       "<table border=\"1\" class=\"dataframe\">\n",
       "  <thead>\n",
       "    <tr style=\"text-align: right;\">\n",
       "      <th></th>\n",
       "      <th>200601월</th>\n",
       "      <th>200602월</th>\n",
       "      <th>200603월</th>\n",
       "      <th>200604월</th>\n",
       "      <th>200605월</th>\n",
       "      <th>200606월</th>\n",
       "      <th>200607월</th>\n",
       "      <th>200608월</th>\n",
       "      <th>200609월</th>\n",
       "      <th>200610월</th>\n",
       "      <th>...</th>\n",
       "      <th>201808월</th>\n",
       "      <th>201809월</th>\n",
       "      <th>201810월</th>\n",
       "      <th>201811월</th>\n",
       "      <th>201812월</th>\n",
       "      <th>201901월</th>\n",
       "      <th>201902월</th>\n",
       "      <th>201903월</th>\n",
       "      <th>201904월</th>\n",
       "      <th>201905월</th>\n",
       "    </tr>\n",
       "  </thead>\n",
       "  <tbody>\n",
       "    <tr>\n",
       "      <th>전국</th>\n",
       "      <td>0.3</td>\n",
       "      <td>0.5</td>\n",
       "      <td>0.6</td>\n",
       "      <td>0.9</td>\n",
       "      <td>1.0</td>\n",
       "      <td>0.5</td>\n",
       "      <td>0.2</td>\n",
       "      <td>0.2</td>\n",
       "      <td>0.5</td>\n",
       "      <td>1.3</td>\n",
       "      <td>...</td>\n",
       "      <td>0.0</td>\n",
       "      <td>0.3</td>\n",
       "      <td>0.2</td>\n",
       "      <td>0.1</td>\n",
       "      <td>0.0</td>\n",
       "      <td>-0.1</td>\n",
       "      <td>-0.1</td>\n",
       "      <td>-0.2</td>\n",
       "      <td>-0.2</td>\n",
       "      <td>-0.2</td>\n",
       "    </tr>\n",
       "    <tr>\n",
       "      <th>수도권</th>\n",
       "      <td>0.5</td>\n",
       "      <td>0.7</td>\n",
       "      <td>1.0</td>\n",
       "      <td>1.4</td>\n",
       "      <td>1.7</td>\n",
       "      <td>0.9</td>\n",
       "      <td>0.4</td>\n",
       "      <td>0.5</td>\n",
       "      <td>0.8</td>\n",
       "      <td>2.3</td>\n",
       "      <td>...</td>\n",
       "      <td>0.2</td>\n",
       "      <td>0.7</td>\n",
       "      <td>0.4</td>\n",
       "      <td>0.3</td>\n",
       "      <td>0.1</td>\n",
       "      <td>-0.1</td>\n",
       "      <td>-0.1</td>\n",
       "      <td>-0.2</td>\n",
       "      <td>-0.2</td>\n",
       "      <td>-0.2</td>\n",
       "    </tr>\n",
       "    <tr>\n",
       "      <th>서울</th>\n",
       "      <td>0.6</td>\n",
       "      <td>0.8</td>\n",
       "      <td>1.2</td>\n",
       "      <td>1.5</td>\n",
       "      <td>1.5</td>\n",
       "      <td>0.7</td>\n",
       "      <td>0.3</td>\n",
       "      <td>0.4</td>\n",
       "      <td>0.8</td>\n",
       "      <td>2.0</td>\n",
       "      <td>...</td>\n",
       "      <td>0.6</td>\n",
       "      <td>1.3</td>\n",
       "      <td>0.5</td>\n",
       "      <td>0.2</td>\n",
       "      <td>0.0</td>\n",
       "      <td>-0.2</td>\n",
       "      <td>-0.2</td>\n",
       "      <td>-0.2</td>\n",
       "      <td>-0.2</td>\n",
       "      <td>-0.1</td>\n",
       "    </tr>\n",
       "    <tr>\n",
       "      <th>강남</th>\n",
       "      <td>1.0</td>\n",
       "      <td>1.2</td>\n",
       "      <td>1.8</td>\n",
       "      <td>2.3</td>\n",
       "      <td>2.2</td>\n",
       "      <td>0.8</td>\n",
       "      <td>0.3</td>\n",
       "      <td>0.2</td>\n",
       "      <td>0.9</td>\n",
       "      <td>2.3</td>\n",
       "      <td>...</td>\n",
       "      <td>0.6</td>\n",
       "      <td>1.5</td>\n",
       "      <td>0.5</td>\n",
       "      <td>0.1</td>\n",
       "      <td>-0.1</td>\n",
       "      <td>-0.3</td>\n",
       "      <td>-0.3</td>\n",
       "      <td>-0.3</td>\n",
       "      <td>-0.2</td>\n",
       "      <td>-0.1</td>\n",
       "    </tr>\n",
       "    <tr>\n",
       "      <th>강북</th>\n",
       "      <td>0.2</td>\n",
       "      <td>0.3</td>\n",
       "      <td>0.5</td>\n",
       "      <td>0.7</td>\n",
       "      <td>0.7</td>\n",
       "      <td>0.6</td>\n",
       "      <td>0.4</td>\n",
       "      <td>0.5</td>\n",
       "      <td>0.7</td>\n",
       "      <td>1.5</td>\n",
       "      <td>...</td>\n",
       "      <td>0.6</td>\n",
       "      <td>1.0</td>\n",
       "      <td>0.6</td>\n",
       "      <td>0.3</td>\n",
       "      <td>0.2</td>\n",
       "      <td>-0.1</td>\n",
       "      <td>-0.1</td>\n",
       "      <td>-0.1</td>\n",
       "      <td>-0.1</td>\n",
       "      <td>-0.1</td>\n",
       "    </tr>\n",
       "  </tbody>\n",
       "</table>\n",
       "<p>5 rows × 161 columns</p>\n",
       "</div>"
      ],
      "text/plain": [
       "    200601월  200602월  200603월  200604월  200605월  200606월  200607월  200608월  \\\n",
       "전국      0.3      0.5      0.6      0.9      1.0      0.5      0.2      0.2   \n",
       "수도권     0.5      0.7      1.0      1.4      1.7      0.9      0.4      0.5   \n",
       "서울      0.6      0.8      1.2      1.5      1.5      0.7      0.3      0.4   \n",
       "강남      1.0      1.2      1.8      2.3      2.2      0.8      0.3      0.2   \n",
       "강북      0.2      0.3      0.5      0.7      0.7      0.6      0.4      0.5   \n",
       "\n",
       "     200609월  200610월  ...  201808월  201809월  201810월  201811월  201812월  \\\n",
       "전국       0.5      1.3  ...      0.0      0.3      0.2      0.1      0.0   \n",
       "수도권      0.8      2.3  ...      0.2      0.7      0.4      0.3      0.1   \n",
       "서울       0.8      2.0  ...      0.6      1.3      0.5      0.2      0.0   \n",
       "강남       0.9      2.3  ...      0.6      1.5      0.5      0.1     -0.1   \n",
       "강북       0.7      1.5  ...      0.6      1.0      0.6      0.3      0.2   \n",
       "\n",
       "     201901월  201902월  201903월  201904월  201905월  \n",
       "전국      -0.1     -0.1     -0.2     -0.2     -0.2  \n",
       "수도권     -0.1     -0.1     -0.2     -0.2     -0.2  \n",
       "서울      -0.2     -0.2     -0.2     -0.2     -0.1  \n",
       "강남      -0.3     -0.3     -0.3     -0.2     -0.1  \n",
       "강북      -0.1     -0.1     -0.1     -0.1     -0.1  \n",
       "\n",
       "[5 rows x 161 columns]"
      ]
     },
     "execution_count": 259,
     "metadata": {},
     "output_type": "execute_result"
    }
   ],
   "source": [
    "# 1. 데이터 읽기\n",
    "f = 'stat_124001.xls'\n",
    "house = pd.read_excel(f, encoding='cp949', index_col=0, header=2)\n",
    "house.head()"
   ]
  },
  {
   "cell_type": "code",
   "execution_count": 260,
   "metadata": {},
   "outputs": [],
   "source": [
    "house = house.transpose()\n",
    "house = house.iloc[:, :-2]\n",
    "house = house.loc[:, ['강남', '강북', '수도권', '서울']]"
   ]
  },
  {
   "cell_type": "code",
   "execution_count": 268,
   "metadata": {},
   "outputs": [],
   "source": [
    "window_month = 12\n",
    "predict_month = 6\n",
    "offset = window_day + predict_day - 1"
   ]
  },
  {
   "cell_type": "code",
   "execution_count": 269,
   "metadata": {},
   "outputs": [
    {
     "data": {
      "text/plain": [
       "137"
      ]
     },
     "execution_count": 269,
     "metadata": {},
     "output_type": "execute_result"
    }
   ],
   "source": [
    "m = len(house) - (window_day + predict_day - 1)\n",
    "m"
   ]
  },
  {
   "cell_type": "code",
   "execution_count": 270,
   "metadata": {},
   "outputs": [
    {
     "data": {
      "text/plain": [
       "((137, 20, 4), (137, 5, 4))"
      ]
     },
     "execution_count": 270,
     "metadata": {},
     "output_type": "execute_result"
    }
   ],
   "source": [
    "# 2. 데이터 x, y 분류\n",
    "x_list = []\n",
    "y_list = []\n",
    "for i in range(m):\n",
    "    x = house.iloc[i:i+window_day] # 6달 데이터\n",
    "    y = house.iloc[i+window_day:i+window_day+predict_day] # 1달 데이터\n",
    "    x_list.append(x.values)\n",
    "    y_list.append(y.values)\n",
    "X = np.array(x_list)\n",
    "y = np.array(y_list)\n",
    "X.shape, y.shape # (instance, day, 특징수)"
   ]
  },
  {
   "cell_type": "code",
   "execution_count": 271,
   "metadata": {},
   "outputs": [
    {
     "data": {
      "text/plain": [
       "((137, 80), (137, 20))"
      ]
     },
     "execution_count": 271,
     "metadata": {},
     "output_type": "execute_result"
    }
   ],
   "source": [
    "X = np.reshape(X, [m, -1])\n",
    "y = np.reshape(y, [m, -1])\n",
    "X.shape, y.shape"
   ]
  },
  {
   "cell_type": "code",
   "execution_count": 272,
   "metadata": {},
   "outputs": [
    {
     "data": {
      "text/plain": [
       "((127, 80), (10, 80), (127, 20), (10, 20))"
      ]
     },
     "execution_count": 272,
     "metadata": {},
     "output_type": "execute_result"
    }
   ],
   "source": [
    "# train/test 분리\n",
    "offset = 10\n",
    "X_train = X[offset:]\n",
    "X_test = X[:offset]\n",
    "y_train = y[offset:]\n",
    "y_test = y[:offset]\n",
    "X_train.shape, X_test.shape, y_train.shape, y_test.shape"
   ]
  },
  {
   "cell_type": "code",
   "execution_count": 273,
   "metadata": {},
   "outputs": [
    {
     "data": {
      "text/plain": [
       "(0.7126813225245947, -0.532827666763851)"
      ]
     },
     "execution_count": 273,
     "metadata": {},
     "output_type": "execute_result"
    }
   ],
   "source": [
    "# Ridge fit\n",
    "rg = Ridge().fit(X_train, y_train)\n",
    "rg.score(X_train, y_train), rg.score(X_test, y_test)"
   ]
  },
  {
   "cell_type": "code",
   "execution_count": 276,
   "metadata": {},
   "outputs": [
    {
     "ename": "ValueError",
     "evalue": "cannot reshape array of size 80 into shape (5,4)",
     "output_type": "error",
     "traceback": [
      "\u001b[1;31m---------------------------------------------------------------------------\u001b[0m",
      "\u001b[1;31mValueError\u001b[0m                                Traceback (most recent call last)",
      "\u001b[1;32m<ipython-input-276-9ed3762601fb>\u001b[0m in \u001b[0;36m<module>\u001b[1;34m\u001b[0m\n\u001b[0;32m      2\u001b[0m \u001b[0m마지막12달\u001b[0m \u001b[1;33m=\u001b[0m \u001b[0mhouse\u001b[0m\u001b[1;33m.\u001b[0m\u001b[0miloc\u001b[0m\u001b[1;33m[\u001b[0m\u001b[1;33m-\u001b[0m\u001b[0mwindow_day\u001b[0m\u001b[1;33m:\u001b[0m\u001b[1;33m]\u001b[0m\u001b[1;33m.\u001b[0m\u001b[0mvalues\u001b[0m\u001b[1;33m.\u001b[0m\u001b[0mreshape\u001b[0m\u001b[1;33m(\u001b[0m\u001b[1;33m[\u001b[0m\u001b[1;36m1\u001b[0m\u001b[1;33m,\u001b[0m \u001b[1;33m-\u001b[0m\u001b[1;36m1\u001b[0m\u001b[1;33m]\u001b[0m\u001b[1;33m)\u001b[0m\u001b[1;33m\u001b[0m\u001b[1;33m\u001b[0m\u001b[0m\n\u001b[0;32m      3\u001b[0m \u001b[0m미래1달\u001b[0m \u001b[1;33m=\u001b[0m \u001b[0mrg\u001b[0m\u001b[1;33m.\u001b[0m\u001b[0mpredict\u001b[0m\u001b[1;33m(\u001b[0m\u001b[0m마지막12달\u001b[0m\u001b[1;33m)\u001b[0m\u001b[1;33m\u001b[0m\u001b[1;33m\u001b[0m\u001b[0m\n\u001b[1;32m----> 4\u001b[1;33m \u001b[0m미래1달\u001b[0m \u001b[1;33m=\u001b[0m \u001b[0mnp\u001b[0m\u001b[1;33m.\u001b[0m\u001b[0mreshape\u001b[0m\u001b[1;33m(\u001b[0m\u001b[0m마지막12달\u001b[0m\u001b[1;33m,\u001b[0m \u001b[1;33m[\u001b[0m\u001b[0mpredict_day\u001b[0m\u001b[1;33m,\u001b[0m \u001b[1;36m4\u001b[0m\u001b[1;33m]\u001b[0m\u001b[1;33m)\u001b[0m\u001b[1;33m\u001b[0m\u001b[1;33m\u001b[0m\u001b[0m\n\u001b[0m\u001b[0;32m      5\u001b[0m \u001b[1;33m\u001b[0m\u001b[0m\n\u001b[0;32m      6\u001b[0m \u001b[1;33m\u001b[0m\u001b[0m\n",
      "\u001b[1;32m~\\Anaconda3\\lib\\site-packages\\numpy\\core\\fromnumeric.py\u001b[0m in \u001b[0;36mreshape\u001b[1;34m(a, newshape, order)\u001b[0m\n\u001b[0;32m    290\u001b[0m            [5, 6]])\n\u001b[0;32m    291\u001b[0m     \"\"\"\n\u001b[1;32m--> 292\u001b[1;33m     \u001b[1;32mreturn\u001b[0m \u001b[0m_wrapfunc\u001b[0m\u001b[1;33m(\u001b[0m\u001b[0ma\u001b[0m\u001b[1;33m,\u001b[0m \u001b[1;34m'reshape'\u001b[0m\u001b[1;33m,\u001b[0m \u001b[0mnewshape\u001b[0m\u001b[1;33m,\u001b[0m \u001b[0morder\u001b[0m\u001b[1;33m=\u001b[0m\u001b[0morder\u001b[0m\u001b[1;33m)\u001b[0m\u001b[1;33m\u001b[0m\u001b[1;33m\u001b[0m\u001b[0m\n\u001b[0m\u001b[0;32m    293\u001b[0m \u001b[1;33m\u001b[0m\u001b[0m\n\u001b[0;32m    294\u001b[0m \u001b[1;33m\u001b[0m\u001b[0m\n",
      "\u001b[1;32m~\\Anaconda3\\lib\\site-packages\\numpy\\core\\fromnumeric.py\u001b[0m in \u001b[0;36m_wrapfunc\u001b[1;34m(obj, method, *args, **kwds)\u001b[0m\n\u001b[0;32m     54\u001b[0m \u001b[1;32mdef\u001b[0m \u001b[0m_wrapfunc\u001b[0m\u001b[1;33m(\u001b[0m\u001b[0mobj\u001b[0m\u001b[1;33m,\u001b[0m \u001b[0mmethod\u001b[0m\u001b[1;33m,\u001b[0m \u001b[1;33m*\u001b[0m\u001b[0margs\u001b[0m\u001b[1;33m,\u001b[0m \u001b[1;33m**\u001b[0m\u001b[0mkwds\u001b[0m\u001b[1;33m)\u001b[0m\u001b[1;33m:\u001b[0m\u001b[1;33m\u001b[0m\u001b[1;33m\u001b[0m\u001b[0m\n\u001b[0;32m     55\u001b[0m     \u001b[1;32mtry\u001b[0m\u001b[1;33m:\u001b[0m\u001b[1;33m\u001b[0m\u001b[1;33m\u001b[0m\u001b[0m\n\u001b[1;32m---> 56\u001b[1;33m         \u001b[1;32mreturn\u001b[0m \u001b[0mgetattr\u001b[0m\u001b[1;33m(\u001b[0m\u001b[0mobj\u001b[0m\u001b[1;33m,\u001b[0m \u001b[0mmethod\u001b[0m\u001b[1;33m)\u001b[0m\u001b[1;33m(\u001b[0m\u001b[1;33m*\u001b[0m\u001b[0margs\u001b[0m\u001b[1;33m,\u001b[0m \u001b[1;33m**\u001b[0m\u001b[0mkwds\u001b[0m\u001b[1;33m)\u001b[0m\u001b[1;33m\u001b[0m\u001b[1;33m\u001b[0m\u001b[0m\n\u001b[0m\u001b[0;32m     57\u001b[0m \u001b[1;33m\u001b[0m\u001b[0m\n\u001b[0;32m     58\u001b[0m     \u001b[1;31m# An AttributeError occurs if the object does not have\u001b[0m\u001b[1;33m\u001b[0m\u001b[1;33m\u001b[0m\u001b[1;33m\u001b[0m\u001b[0m\n",
      "\u001b[1;31mValueError\u001b[0m: cannot reshape array of size 80 into shape (5,4)"
     ]
    }
   ],
   "source": [
    "# 그래프 시각화\n",
    "마지막12달 = house.iloc[-window_day:].values.reshape([1, -1])\n",
    "미래1달 = rg.predict(마지막12달)\n",
    "미래1달 = np.reshape(마지막12달, [predict_day, 4])\n",
    "\n",
    "\n",
    "\n",
    "house = house.loc[:, ['강남', '강북', '수도권', '서울']]\n",
    "\n",
    "강남 = house.iloc[:, 0].values\n",
    "강북 = house.iloc[:, 1].values\n",
    "수도권 = house.iloc[:, 2].values\n",
    "서울 = house.iloc[:, 3].values\n",
    "\n",
    "x_num = np.arange(len(house))\n",
    "x_predict_num = np.arange(len(house), len(house)+len())"
   ]
  },
  {
   "cell_type": "code",
   "execution_count": null,
   "metadata": {},
   "outputs": [],
   "source": [
    "japan = df2.iloc[:,1].values\n",
    "usa_x_num = np.arange(len(usa))\n",
    "usa_x1_num = np.arange(len(usa), len(usa)+len(미래5일))\n",
    "japan_x_num = np.arange(len(japan))\n",
    "japan_x1_num = np.arange(len(japan), len(japan)+len(미래5일))\n",
    "plt.plot(usa_x_num, usa, label = 'usa')\n",
    "plt.plot(japan_x_num, japan, label = 'japan')\n",
    "plt.plot(usa_x1_num, 미래5일[:,0], label = 'usa 예측')\n",
    "plt.plot(japan_x1_num, 미래5일[:,1], label = 'japan 예측')\n",
    "plt.legend()"
   ]
  }
 ],
 "metadata": {
  "kernelspec": {
   "display_name": "Python 3",
   "language": "python",
   "name": "python3"
  },
  "language_info": {
   "codemirror_mode": {
    "name": "ipython",
    "version": 3
   },
   "file_extension": ".py",
   "mimetype": "text/x-python",
   "name": "python",
   "nbconvert_exporter": "python",
   "pygments_lexer": "ipython3",
   "version": "3.7.3"
  }
 },
 "nbformat": 4,
 "nbformat_minor": 2
}
